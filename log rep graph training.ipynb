{
 "cells": [
  {
   "cell_type": "code",
   "execution_count": 1,
   "id": "c8b3cb48",
   "metadata": {
    "ExecuteTime": {
     "end_time": "2022-05-14T09:25:05.422558Z",
     "start_time": "2022-05-14T09:25:03.573761Z"
    }
   },
   "outputs": [],
   "source": [
    "from utils.data import (divideLogByFaultTime,\n",
    "                        msg_node, msg_graph,\n",
    "                        prepare_repGraph_word2vec,\n",
    "                        prepare_repGraph_wordfreq,\n",
    "                        prepare_catGraph_word2vec,\n",
    "                        RepGraphDataset)\n",
    "from utils.graph_model import (macro_f1, \n",
    "                               Log_Rep_Graph, Log_Rep_GraphAttention, Log_Rep_GraphConv)"
   ]
  },
  {
   "cell_type": "code",
   "execution_count": null,
   "id": "26b76f9c",
   "metadata": {},
   "outputs": [],
   "source": []
  },
  {
   "cell_type": "markdown",
   "id": "beb2a9a9",
   "metadata": {
    "heading_collapsed": true
   },
   "source": [
    "# Split log data by fault time"
   ]
  },
  {
   "cell_type": "code",
   "execution_count": null,
   "id": "4eb0011b",
   "metadata": {
    "ExecuteTime": {
     "end_time": "2022-04-25T08:45:51.828349Z",
     "start_time": "2022-04-25T08:45:51.826189Z"
    },
    "hidden": true
   },
   "outputs": [],
   "source": [
    "import pandas as pd\n",
    "import numpy as np"
   ]
  },
  {
   "cell_type": "code",
   "execution_count": null,
   "id": "92b1c582",
   "metadata": {
    "ExecuteTime": {
     "end_time": "2022-04-25T08:46:19.227165Z",
     "start_time": "2022-04-25T08:46:17.380316Z"
    },
    "hidden": true
   },
   "outputs": [],
   "source": [
    "# 读取sel日志数据\n",
    "sel_log_df = pd.read_csv('./pre_contest/preliminary_sel_log_dataset.csv').drop_duplicates()\n",
    "# 读取额外的日志数据\n",
    "#additional_sel_log_df=pd.read_csv('./pre_contest/additional_sel_log_dataset.csv').drop_duplicates()\n",
    "# 读取训练标签数据：有重复数据！\n",
    "train_label1 = pd.read_csv('./pre_contest/preliminary_train_label_dataset.csv')\n",
    "train_label2 = pd.read_csv('./pre_contest/preliminary_train_label_dataset_s.csv')\n",
    "train_label_df = pd.concat([train_label1,train_label2],axis=0).drop_duplicates()\n",
    "\n",
    "\n",
    "# 合并日志和标签\n",
    "sel_log_df['label'] = ''\n",
    "train_label_df['time'] = train_label_df['fault_time']\n",
    "train_label_df['msg'] = ''\n",
    "train_label_df['server_model'] = train_label_df['sn'].map(dict(zip(sel_log_df['sn'],sel_log_df['server_model'])))\n",
    "train_label_df = train_label_df[['sn', 'time', 'msg', 'server_model', 'label']]\n",
    "\n",
    "log_label_df = pd.concat([sel_log_df,train_label_df], axis = 0).sort_values(by = 'time')\n",
    "log_label_df['fault_time'] = ''\n",
    "log_label_df = log_label_df[['sn', 'fault_time', 'msg', 'time', 'server_model', 'label']]"
   ]
  },
  {
   "cell_type": "code",
   "execution_count": null,
   "id": "7cb16114",
   "metadata": {
    "ExecuteTime": {
     "end_time": "2022-04-25T08:51:56.762977Z",
     "start_time": "2022-04-25T08:46:29.258587Z"
    },
    "hidden": true,
    "scrolled": true
   },
   "outputs": [],
   "source": [
    "FaultTime_log_correspond_label_df, FaultTime_no_label_log_list = divideLogByFaultTime(log_label_df)"
   ]
  },
  {
   "cell_type": "code",
   "execution_count": null,
   "id": "c85dbf0a",
   "metadata": {
    "ExecuteTime": {
     "end_time": "2022-04-25T08:54:44.757509Z",
     "start_time": "2022-04-25T08:54:44.487582Z"
    },
    "hidden": true
   },
   "outputs": [],
   "source": [
    "FaultTime_log_correspond_label_df.to_pickle('pre_contest/FaultTime_log_correspond_label_df.new.p')"
   ]
  },
  {
   "cell_type": "code",
   "execution_count": null,
   "id": "0935a663",
   "metadata": {
    "ExecuteTime": {
     "end_time": "2022-04-25T08:58:22.969682Z",
     "start_time": "2022-04-25T08:58:22.957610Z"
    },
    "hidden": true
   },
   "outputs": [],
   "source": [
    "FaultTime_log_correspond_label_df.tail()"
   ]
  },
  {
   "cell_type": "markdown",
   "id": "ed66bb7d",
   "metadata": {
    "heading_collapsed": true
   },
   "source": [
    "# Train Word2Vec Model"
   ]
  },
  {
   "cell_type": "code",
   "execution_count": null,
   "id": "04828d6b",
   "metadata": {
    "ExecuteTime": {
     "end_time": "2022-04-25T09:03:29.168900Z",
     "start_time": "2022-04-25T09:03:29.166979Z"
    },
    "hidden": true
   },
   "outputs": [],
   "source": [
    "import nltk\n",
    "from nltk.tokenize import word_tokenize\n",
    "from gensim.models.doc2vec import Doc2Vec, TaggedDocument\n",
    "from gensim.models.word2vec import Word2Vec\n",
    "import re"
   ]
  },
  {
   "cell_type": "code",
   "execution_count": null,
   "id": "198ba515",
   "metadata": {
    "ExecuteTime": {
     "end_time": "2022-04-25T08:59:50.899337Z",
     "start_time": "2022-04-25T08:59:35.205058Z"
    },
    "hidden": true
   },
   "outputs": [],
   "source": [
    "nodes = []\n",
    "grp = FaultTime_log_correspond_label_df\n",
    "grp = grp.loc[~pd.isnull(grp['msg'])]\n",
    "grp['log_time'] = pd.to_datetime(grp['time'])\n",
    "grp = grp.sort_values(['log_time'])\n",
    "\n",
    "for ith in range(len(grp)):\n",
    "    nodes.append(msg_node(grp['msg'].iloc[ith], \n",
    "                          grp['log_time'].iloc[ith], \n",
    "                          grp['server_model'].iloc[ith]))"
   ]
  },
  {
   "cell_type": "code",
   "execution_count": null,
   "id": "768d7937",
   "metadata": {
    "ExecuteTime": {
     "end_time": "2022-04-25T09:03:15.225656Z",
     "start_time": "2022-04-25T09:02:41.808989Z"
    },
    "hidden": true
   },
   "outputs": [],
   "source": [
    "tokenized_titles = []\n",
    "for node in nodes:\n",
    "    if node.msg_type >= 1:\n",
    "        tokenized_titles.append(word_tokenize(node.attrs[0].lower()))"
   ]
  },
  {
   "cell_type": "code",
   "execution_count": null,
   "id": "b5977d70",
   "metadata": {
    "ExecuteTime": {
     "end_time": "2022-04-25T09:09:55.353152Z",
     "start_time": "2022-04-25T09:09:24.518821Z"
    },
    "hidden": true
   },
   "outputs": [],
   "source": [
    "tokenized_content = []\n",
    "for node in nodes:\n",
    "    if node.msg_type == 0:\n",
    "        tokenized_content.append(word_tokenize(node.attrs[0].lower()))\n",
    "    elif (node.msg_type == 1) or (node.msg_type == 2):\n",
    "        tokenized_content.append(word_tokenize(node.attrs[1].lower()))\n",
    "    else:\n",
    "        tokenized_content.append(word_tokenize(' '.join(node.attrs[1:]).lower()))"
   ]
  },
  {
   "cell_type": "code",
   "execution_count": null,
   "id": "61f9ad42",
   "metadata": {
    "ExecuteTime": {
     "end_time": "2022-04-25T09:45:33.960908Z",
     "start_time": "2022-04-25T09:44:50.295515Z"
    },
    "hidden": true
   },
   "outputs": [],
   "source": [
    "tokenized_tot = []\n",
    "for node in nodes:\n",
    "    tokenized_tot.append(word_tokenize(' '.join(node.attrs).lower()))"
   ]
  },
  {
   "cell_type": "code",
   "execution_count": null,
   "id": "98b78411",
   "metadata": {
    "ExecuteTime": {
     "end_time": "2022-04-25T09:03:34.110414Z",
     "start_time": "2022-04-25T09:03:32.062955Z"
    },
    "hidden": true
   },
   "outputs": [],
   "source": [
    "word_list=[]\n",
    "for i in range(len(tokenized_titles)):\n",
    "    xth=[]\n",
    "    for word in tokenized_titles[i]:\n",
    "        word_drop=re.sub(r'[^\\w]','',str(word)).lower()\n",
    "        if word_drop:\n",
    "            xth.append(word_drop)\n",
    "    word_list.append(xth)"
   ]
  },
  {
   "cell_type": "code",
   "execution_count": null,
   "id": "445fe501",
   "metadata": {
    "ExecuteTime": {
     "end_time": "2022-04-25T09:11:13.569853Z",
     "start_time": "2022-04-25T09:11:12.343857Z"
    },
    "hidden": true
   },
   "outputs": [],
   "source": [
    "word_list=[]\n",
    "for i in range(len(tokenized_content)):\n",
    "    xth=[]\n",
    "    for word in tokenized_content[i]:\n",
    "        word_drop=re.sub(r'[^\\w]','',str(word)).lower()\n",
    "        if word_drop:\n",
    "            xth.append(word_drop)\n",
    "    word_list.append(xth)"
   ]
  },
  {
   "cell_type": "code",
   "execution_count": null,
   "id": "8c297dad",
   "metadata": {
    "ExecuteTime": {
     "end_time": "2022-04-25T09:46:25.740322Z",
     "start_time": "2022-04-25T09:46:21.030949Z"
    },
    "hidden": true
   },
   "outputs": [],
   "source": [
    "word_list=[]\n",
    "for i in range(len(tokenized_tot)):\n",
    "    xth=[]\n",
    "    for word in tokenized_tot[i]:\n",
    "        word_drop=re.sub(r'[^\\w]','',str(word)).lower()\n",
    "        if word_drop:\n",
    "            xth.append(word_drop)\n",
    "    word_list.append(xth)"
   ]
  },
  {
   "cell_type": "code",
   "execution_count": null,
   "id": "88c2bafd",
   "metadata": {
    "ExecuteTime": {
     "end_time": "2022-04-25T09:47:25.927364Z",
     "start_time": "2022-04-25T09:46:30.009059Z"
    },
    "hidden": true
   },
   "outputs": [],
   "source": [
    "word2vec_model = Word2Vec(word_list,vector_size=100, alpha=0.03, window=5, \n",
    "                          min_count=1,max_vocab_size=None, sample=1e-3, seed=0, \n",
    "                          workers=12, min_alpha=0.0001,sg=1, hs=0, negative=5, \n",
    "                          cbow_mean=1, hashfxn=hash, epochs=50, \n",
    "                          null_word=0,trim_rule=None, sorted_vocab=1)"
   ]
  },
  {
   "cell_type": "code",
   "execution_count": null,
   "id": "ba848725",
   "metadata": {
    "ExecuteTime": {
     "end_time": "2022-04-25T09:48:46.103426Z",
     "start_time": "2022-04-25T09:48:46.098558Z"
    },
    "hidden": true
   },
   "outputs": [],
   "source": [
    "import pickle\n",
    "file = open('./pre_contest/model_msg_tot_100_log.word2vec.p','wb')\n",
    "pickle.dump(word2vec_model, file)"
   ]
  },
  {
   "cell_type": "code",
   "execution_count": null,
   "id": "38c6793a",
   "metadata": {
    "ExecuteTime": {
     "end_time": "2022-04-25T10:00:44.709958Z",
     "start_time": "2022-04-25T10:00:44.705705Z"
    },
    "hidden": true
   },
   "outputs": [],
   "source": [
    "def emb_word2vec(msg_temp, word2vec_model):\n",
    "    item_raw_word_list = word_tokenize(msg_temp)\n",
    "    embedding_vector_weighted_sum = []\n",
    "    for word_xth in item_raw_word_list:\n",
    "        word_drop_xth = re.sub(r'[^\\w]','',str(word)).lower()\n",
    "        if word_drop_xth:\n",
    "            vector=word2vec_model.wv[word_drop_xth].reshape(1,-1)[0]\n",
    "            embedding_vector_weighted_sum.append(np.array(vector))\n",
    "    return np.mean(np.stack(embedding_vector_weighted_sum),axis=0)"
   ]
  },
  {
   "cell_type": "code",
   "execution_count": null,
   "id": "c2a02064",
   "metadata": {
    "ExecuteTime": {
     "end_time": "2022-04-25T10:00:55.600100Z",
     "start_time": "2022-04-25T10:00:55.595891Z"
    },
    "hidden": true,
    "scrolled": true
   },
   "outputs": [],
   "source": [
    "msg_temp = nodes[0].attrs[1].lower()\n",
    "emb_word2vec(msg_temp, word2vec_model).shape"
   ]
  },
  {
   "cell_type": "code",
   "execution_count": null,
   "id": "1e7166dc",
   "metadata": {
    "hidden": true
   },
   "outputs": [],
   "source": []
  },
  {
   "cell_type": "markdown",
   "id": "1c608d01",
   "metadata": {
    "heading_collapsed": true
   },
   "source": [
    "# Model training"
   ]
  },
  {
   "cell_type": "code",
   "execution_count": null,
   "id": "b7b4d189",
   "metadata": {
    "ExecuteTime": {
     "end_time": "2022-04-30T11:29:30.899015Z",
     "start_time": "2022-04-30T11:29:30.859048Z"
    },
    "hidden": true
   },
   "outputs": [],
   "source": [
    "import pandas as pd\n",
    "import numpy as np\n",
    "import datetime\n",
    "import networkx as nx\n",
    "from itertools import chain\n",
    "from nltk.tokenize import word_tokenize\n",
    "import pdb\n",
    "from torchvision import transforms\n",
    "import torch\n",
    "from sklearn import metrics\n",
    "from torch_geometric.loader import DataLoader"
   ]
  },
  {
   "cell_type": "code",
   "execution_count": null,
   "id": "6db5827f",
   "metadata": {
    "ExecuteTime": {
     "end_time": "2022-04-30T11:29:35.639100Z",
     "start_time": "2022-04-30T11:29:31.928362Z"
    },
    "hidden": true
   },
   "outputs": [],
   "source": [
    "# Load pretrained Doc2Vec Models\n",
    "import pickle\n",
    "#gensim_model_title = pickle.load(open('./pre_contest/model_msg_title_20_log.new.p','rb'))\n",
    "#gensim_model_content = pickle.load(open('./pre_contest/model_msg_content_20_log.new.p','rb'))\n",
    "\n",
    "v1_word_list=list(pd.read_csv('v1p8/word_frequency_df.txt',sep='\\t')['word'])\n",
    "v1p1_word_list=list(pd.read_csv('v1p8/tags_incomplete.txt',sep='\\t',names=['word'])['word'])\n",
    "v1p2_word_list=list(set(v1_word_list+v1p1_word_list))\n",
    "\n",
    "# Load dataset & train-test split\n",
    "import random\n",
    "log_df = pd.read_pickle('pre_contest/FaultTime_log_correspond_label_df.new.p')\n",
    "log_df = log_df.loc[~pd.isnull(log_df['msg'])]\n",
    "log_df['log_time'] = pd.to_datetime(log_df['time'])\n",
    "log_df = log_df.sort_values(['log_time'])\n",
    "\n",
    "data_train = []\n",
    "data_test = []\n",
    "cnt = 0\n",
    "for name, grp in log_df.groupby(['sn','fault_time','label']):\n",
    "    grp['sample_id'] = cnt\n",
    "    if random.random() >= 0.2:\n",
    "        data_train.append(grp)\n",
    "    else:\n",
    "        data_test.append(grp)\n",
    "    cnt += 1"
   ]
  },
  {
   "cell_type": "code",
   "execution_count": null,
   "id": "3a6907e6",
   "metadata": {
    "ExecuteTime": {
     "end_time": "2022-04-30T11:29:38.275425Z",
     "start_time": "2022-04-30T11:29:38.272308Z"
    },
    "hidden": true
   },
   "outputs": [],
   "source": [
    "from torchvision import transforms\n",
    "#t1 = prepare_repGraph(gensim_model_title, gensim_model_content,\n",
    "#                      dim_title=20, dim_middle=20)\n",
    "t1 = prepare_repGraph(v1p2_word_list)\n",
    "trans = transforms.Compose([t1])\n",
    "\n",
    "trainset = RepGraphDataset(data_train, trans)\n",
    "testset = RepGraphDataset(data_test, trans)\n",
    "\n",
    "train_loader = DataLoader(trainset, batch_size=50, shuffle=True)\n",
    "test_loader = DataLoader(testset, batch_size=100)"
   ]
  },
  {
   "cell_type": "code",
   "execution_count": null,
   "id": "f96e1781",
   "metadata": {
    "ExecuteTime": {
     "end_time": "2022-04-30T11:30:26.733124Z",
     "start_time": "2022-04-30T11:29:40.119199Z"
    },
    "hidden": true
   },
   "outputs": [],
   "source": [
    "dat = next(iter(train_loader))"
   ]
  },
  {
   "cell_type": "code",
   "execution_count": null,
   "id": "c12d8a3d",
   "metadata": {
    "ExecuteTime": {
     "end_time": "2022-04-30T11:37:11.691917Z",
     "start_time": "2022-04-30T11:37:11.689232Z"
    },
    "hidden": true
   },
   "outputs": [],
   "source": [
    "dat.x.shape"
   ]
  },
  {
   "cell_type": "code",
   "execution_count": null,
   "id": "44b778b2",
   "metadata": {
    "ExecuteTime": {
     "end_time": "2022-04-30T11:37:37.716640Z",
     "start_time": "2022-04-30T11:37:37.705800Z"
    },
    "hidden": true
   },
   "outputs": [],
   "source": [
    "# model setup and training\n",
    "model = Log_Rep_Graph()\n",
    "model"
   ]
  },
  {
   "cell_type": "code",
   "execution_count": null,
   "id": "9d639ab2",
   "metadata": {
    "ExecuteTime": {
     "end_time": "2022-04-30T11:37:40.357444Z",
     "start_time": "2022-04-30T11:37:40.353358Z"
    },
    "hidden": true
   },
   "outputs": [],
   "source": [
    "trainer = pl.Trainer(gpus=1, max_epochs=3)"
   ]
  },
  {
   "cell_type": "code",
   "execution_count": null,
   "id": "e0aa7ec0",
   "metadata": {
    "ExecuteTime": {
     "start_time": "2022-04-30T11:37:42.237Z"
    },
    "hidden": true
   },
   "outputs": [],
   "source": [
    "trainer.fit(model, train_loader, test_loader)"
   ]
  },
  {
   "cell_type": "code",
   "execution_count": null,
   "id": "83c25855",
   "metadata": {
    "ExecuteTime": {
     "start_time": "2022-05-01T02:15:47.224Z"
    },
    "hidden": true
   },
   "outputs": [],
   "source": [
    "model.eval()\n",
    "true_labels = []\n",
    "pred_labels = []\n",
    "for dat in test_loader:\n",
    "    out = model(dat)\n",
    "    pred_label = np.argmax(out.detach().numpy(),1)\n",
    "    pred_labels.append(pred_label)\n",
    "    true_labels.append(dat.label.detach().numpy())\n",
    "\n",
    "true_vector = np.concatenate(true_labels)\n",
    "pred_vector = np.concatenate(pred_labels)\n",
    "\n",
    "cm = metrics.confusion_matrix(true_vector, pred_vector)\n",
    "print(cm)\n",
    "macro_f1(true_vector,pred_vector)"
   ]
  },
  {
   "cell_type": "code",
   "execution_count": null,
   "id": "5c3a2d79",
   "metadata": {
    "hidden": true
   },
   "outputs": [],
   "source": []
  },
  {
   "cell_type": "markdown",
   "id": "1f476484",
   "metadata": {},
   "source": [
    "# Model training2"
   ]
  },
  {
   "cell_type": "code",
   "execution_count": 2,
   "id": "c99cf22d",
   "metadata": {
    "ExecuteTime": {
     "end_time": "2022-05-14T09:25:09.053363Z",
     "start_time": "2022-05-14T09:25:09.051242Z"
    }
   },
   "outputs": [],
   "source": [
    "import pandas as pd\n",
    "from torch_geometric.loader import DataLoader\n",
    "import pytorch_lightning as pl\n",
    "import numpy as np\n",
    "from sklearn import metrics"
   ]
  },
  {
   "cell_type": "code",
   "execution_count": 3,
   "id": "a6a52673",
   "metadata": {
    "ExecuteTime": {
     "end_time": "2022-05-14T09:25:14.000212Z",
     "start_time": "2022-05-14T09:25:09.921108Z"
    }
   },
   "outputs": [],
   "source": [
    "# Load pretrained Doc2Vec Models\n",
    "import pickle\n",
    "#gensim_model_title = pickle.load(open('./pre_contest/model_msg_title_20_log.new.p','rb'))\n",
    "#gensim_model_content = pickle.load(open('./pre_contest/model_msg_content_20_log.new.p','rb'))\n",
    "\n",
    "#v1_word_list=list(pd.read_csv('v1p8/word_frequency_df.txt',sep='\\t')['word'])\n",
    "#v1p1_word_list=list(pd.read_csv('v1p8/tags_incomplete.txt',sep='\\t',names=['word'])['word'])\n",
    "#v1p2_word_list=list(set(v1_word_list+v1p1_word_list))\n",
    "\n",
    "gensim_word2vec = pickle.load(open('./pre_contest/model_msg_tot_100_log.word2vec.p','rb'))\n",
    "\n",
    "# Load dataset & train-test split\n",
    "import random\n",
    "log_df = pd.read_pickle('pre_contest/FaultTime_log_correspond_label_df.new.p')\n",
    "log_df = log_df.loc[~pd.isnull(log_df['msg'])]\n",
    "log_df['log_time'] = pd.to_datetime(log_df['time'])\n",
    "log_df = log_df.sort_values(['log_time'])\n",
    "\n",
    "data_train = []\n",
    "data_test = []\n",
    "cnt = 0\n",
    "for name, grp in log_df.groupby(['sn','fault_time','label']):\n",
    "    grp['sample_id'] = cnt\n",
    "    if random.random() >= 0.2:\n",
    "        data_train.append(grp)\n",
    "    else:\n",
    "        data_test.append(grp)\n",
    "    cnt += 1"
   ]
  },
  {
   "cell_type": "code",
   "execution_count": 4,
   "id": "b4246957",
   "metadata": {
    "ExecuteTime": {
     "end_time": "2022-05-14T09:25:14.004247Z",
     "start_time": "2022-05-14T09:25:14.001399Z"
    }
   },
   "outputs": [],
   "source": [
    "from torchvision import transforms\n",
    "#t1 = prepare_repGraph_word2vec(gensim_word2vec, gensim_word2vec,\n",
    "#                               dim_title=100, dim_middle=100)\n",
    "t1 = prepare_catGraph_word2vec(gensim_word2vec, gensim_word2vec,\n",
    "                               dim_title=100, dim_middle=100)\n",
    "trans = transforms.Compose([t1])\n",
    "\n",
    "trainset = RepGraphDataset(data_train, trans)\n",
    "testset = RepGraphDataset(data_test, trans)\n",
    "\n",
    "train_loader = DataLoader(trainset, batch_size=50, shuffle=True)\n",
    "test_loader = DataLoader(testset, batch_size=100)"
   ]
  },
  {
   "cell_type": "code",
   "execution_count": 5,
   "id": "14ba6b16",
   "metadata": {
    "ExecuteTime": {
     "end_time": "2022-05-14T09:25:14.236606Z",
     "start_time": "2022-05-14T09:25:14.004892Z"
    }
   },
   "outputs": [
    {
     "data": {
      "text/plain": [
       "DataBatch(x=[673, 312], label=[50], num_nodes=673, edge_index=[2, 1225], edge_attr=[1225], id=[50], server_model=[50], batch=[673], ptr=[51])"
      ]
     },
     "execution_count": 5,
     "metadata": {},
     "output_type": "execute_result"
    }
   ],
   "source": [
    "dat = next(iter(train_loader))\n",
    "dat"
   ]
  },
  {
   "cell_type": "code",
   "execution_count": 6,
   "id": "a251f1cd",
   "metadata": {
    "ExecuteTime": {
     "end_time": "2022-05-14T09:25:15.160686Z",
     "start_time": "2022-05-14T09:25:15.156447Z"
    }
   },
   "outputs": [
    {
     "data": {
      "text/plain": [
       "Log_Rep_Graph(\n",
       "  (conv1): GCNConv(312, 96)\n",
       "  (pool1): TopKPooling(96, ratio=0.5, multiplier=1.0)\n",
       "  (conv2): GCNConv(96, 4)\n",
       "  (logsoftmax_func): LogSoftmax(dim=1)\n",
       ")"
      ]
     },
     "execution_count": 6,
     "metadata": {},
     "output_type": "execute_result"
    }
   ],
   "source": [
    "# model setup and training\n",
    "model = Log_Rep_Graph(input_dim=312, hidden_dim=96, learning_rate=1e-3)\n",
    "model"
   ]
  },
  {
   "cell_type": "code",
   "execution_count": 9,
   "id": "805d9458",
   "metadata": {
    "ExecuteTime": {
     "end_time": "2022-05-14T09:25:35.823960Z",
     "start_time": "2022-05-14T09:25:35.818771Z"
    }
   },
   "outputs": [
    {
     "data": {
      "text/plain": [
       "Log_Rep_GraphAttention(\n",
       "  (conv1): GATConv(312, 96, heads=3)\n",
       "  (pool1): TopKPooling(288, ratio=0.5, multiplier=1.0)\n",
       "  (conv2): GCNConv(288, 4)\n",
       "  (logsoftmax_func): LogSoftmax(dim=1)\n",
       ")"
      ]
     },
     "execution_count": 9,
     "metadata": {},
     "output_type": "execute_result"
    }
   ],
   "source": [
    "model = Log_Rep_GraphAttention(input_dim=312, hidden_dim=96, num_head=3, learning_rate=1e-3)\n",
    "model"
   ]
  },
  {
   "cell_type": "code",
   "execution_count": 13,
   "id": "d3a78e13",
   "metadata": {
    "ExecuteTime": {
     "end_time": "2022-05-14T09:54:01.987491Z",
     "start_time": "2022-05-14T09:54:01.982488Z"
    }
   },
   "outputs": [
    {
     "data": {
      "text/plain": [
       "Log_Rep_GraphConv(\n",
       "  (conv1): GraphConv(312, 96)\n",
       "  (pool1): TopKPooling(96, ratio=0.5, multiplier=1.0)\n",
       "  (conv2): GCNConv(96, 4)\n",
       "  (logsoftmax_func): LogSoftmax(dim=1)\n",
       ")"
      ]
     },
     "execution_count": 13,
     "metadata": {},
     "output_type": "execute_result"
    }
   ],
   "source": [
    "model = Log_Rep_GraphConv(input_dim=312, hidden_dim=96, learning_rate=1e-3)\n",
    "model"
   ]
  },
  {
   "cell_type": "code",
   "execution_count": null,
   "id": "ad44f9a4",
   "metadata": {
    "ExecuteTime": {
     "end_time": "2022-05-14T09:17:08.025370Z",
     "start_time": "2022-05-14T09:17:08.023426Z"
    }
   },
   "outputs": [],
   "source": [
    "model.lr=1e-4"
   ]
  },
  {
   "cell_type": "code",
   "execution_count": 14,
   "id": "f18a9a46",
   "metadata": {
    "ExecuteTime": {
     "end_time": "2022-05-14T09:54:03.665510Z",
     "start_time": "2022-05-14T09:54:03.660763Z"
    }
   },
   "outputs": [
    {
     "name": "stderr",
     "output_type": "stream",
     "text": [
      "GPU available: True, used: True\n",
      "TPU available: False, using: 0 TPU cores\n",
      "IPU available: False, using: 0 IPUs\n"
     ]
    }
   ],
   "source": [
    "trainer = pl.Trainer(gpus=1, max_epochs=10)"
   ]
  },
  {
   "cell_type": "code",
   "execution_count": 15,
   "id": "560a9af9",
   "metadata": {
    "ExecuteTime": {
     "end_time": "2022-05-14T10:20:09.417255Z",
     "start_time": "2022-05-14T09:54:04.984213Z"
    }
   },
   "outputs": [
    {
     "name": "stderr",
     "output_type": "stream",
     "text": [
      "LOCAL_RANK: 0 - CUDA_VISIBLE_DEVICES: [0,1]\n",
      "\n",
      "  | Name            | Type        | Params\n",
      "------------------------------------------------\n",
      "0 | conv1           | GraphConv   | 60.0 K\n",
      "1 | pool1           | TopKPooling | 96    \n",
      "2 | conv2           | GCNConv     | 388   \n",
      "3 | logsoftmax_func | LogSoftmax  | 0     \n",
      "------------------------------------------------\n",
      "60.5 K    Trainable params\n",
      "0         Non-trainable params\n",
      "60.5 K    Total params\n",
      "0.242     Total estimated model params size (MB)\n"
     ]
    },
    {
     "data": {
      "application/vnd.jupyter.widget-view+json": {
       "model_id": "",
       "version_major": 2,
       "version_minor": 0
      },
      "text/plain": [
       "HBox(children=(HTML(value='Validation sanity check'), FloatProgress(value=1.0, bar_style='info', layout=Layout…"
      ]
     },
     "metadata": {},
     "output_type": "display_data"
    },
    {
     "name": "stderr",
     "output_type": "stream",
     "text": [
      "/home/qingyang/miniconda3/envs/ares_new/lib/python3.8/site-packages/pytorch_lightning/trainer/data_loading.py:111: UserWarning: The dataloader, val_dataloader 0, does not have many workers which may be a bottleneck. Consider increasing the value of the `num_workers` argument` (try 20 which is the number of cpus on this machine) in the `DataLoader` init to improve performance.\n",
      "  rank_zero_warn(\n",
      "/home/qingyang/miniconda3/envs/ares_new/lib/python3.8/site-packages/pytorch_lightning/trainer/data_loading.py:111: UserWarning: The dataloader, train_dataloader, does not have many workers which may be a bottleneck. Consider increasing the value of the `num_workers` argument` (try 20 which is the number of cpus on this machine) in the `DataLoader` init to improve performance.\n",
      "  rank_zero_warn(\n"
     ]
    },
    {
     "data": {
      "application/vnd.jupyter.widget-view+json": {
       "model_id": "4dfd19806cab4732b12e6aaf07625cb5",
       "version_major": 2,
       "version_minor": 0
      },
      "text/plain": [
       "HBox(children=(HTML(value='Training'), FloatProgress(value=1.0, bar_style='info', layout=Layout(flex='2'), max…"
      ]
     },
     "metadata": {},
     "output_type": "display_data"
    },
    {
     "data": {
      "application/vnd.jupyter.widget-view+json": {
       "model_id": "",
       "version_major": 2,
       "version_minor": 0
      },
      "text/plain": [
       "HBox(children=(HTML(value='Validating'), FloatProgress(value=1.0, bar_style='info', layout=Layout(flex='2'), m…"
      ]
     },
     "metadata": {},
     "output_type": "display_data"
    },
    {
     "data": {
      "application/vnd.jupyter.widget-view+json": {
       "model_id": "",
       "version_major": 2,
       "version_minor": 0
      },
      "text/plain": [
       "HBox(children=(HTML(value='Validating'), FloatProgress(value=1.0, bar_style='info', layout=Layout(flex='2'), m…"
      ]
     },
     "metadata": {},
     "output_type": "display_data"
    },
    {
     "data": {
      "application/vnd.jupyter.widget-view+json": {
       "model_id": "",
       "version_major": 2,
       "version_minor": 0
      },
      "text/plain": [
       "HBox(children=(HTML(value='Validating'), FloatProgress(value=1.0, bar_style='info', layout=Layout(flex='2'), m…"
      ]
     },
     "metadata": {},
     "output_type": "display_data"
    },
    {
     "data": {
      "application/vnd.jupyter.widget-view+json": {
       "model_id": "",
       "version_major": 2,
       "version_minor": 0
      },
      "text/plain": [
       "HBox(children=(HTML(value='Validating'), FloatProgress(value=1.0, bar_style='info', layout=Layout(flex='2'), m…"
      ]
     },
     "metadata": {},
     "output_type": "display_data"
    },
    {
     "data": {
      "application/vnd.jupyter.widget-view+json": {
       "model_id": "",
       "version_major": 2,
       "version_minor": 0
      },
      "text/plain": [
       "HBox(children=(HTML(value='Validating'), FloatProgress(value=1.0, bar_style='info', layout=Layout(flex='2'), m…"
      ]
     },
     "metadata": {},
     "output_type": "display_data"
    },
    {
     "data": {
      "application/vnd.jupyter.widget-view+json": {
       "model_id": "",
       "version_major": 2,
       "version_minor": 0
      },
      "text/plain": [
       "HBox(children=(HTML(value='Validating'), FloatProgress(value=1.0, bar_style='info', layout=Layout(flex='2'), m…"
      ]
     },
     "metadata": {},
     "output_type": "display_data"
    },
    {
     "data": {
      "application/vnd.jupyter.widget-view+json": {
       "model_id": "",
       "version_major": 2,
       "version_minor": 0
      },
      "text/plain": [
       "HBox(children=(HTML(value='Validating'), FloatProgress(value=1.0, bar_style='info', layout=Layout(flex='2'), m…"
      ]
     },
     "metadata": {},
     "output_type": "display_data"
    },
    {
     "data": {
      "application/vnd.jupyter.widget-view+json": {
       "model_id": "",
       "version_major": 2,
       "version_minor": 0
      },
      "text/plain": [
       "HBox(children=(HTML(value='Validating'), FloatProgress(value=1.0, bar_style='info', layout=Layout(flex='2'), m…"
      ]
     },
     "metadata": {},
     "output_type": "display_data"
    },
    {
     "data": {
      "application/vnd.jupyter.widget-view+json": {
       "model_id": "",
       "version_major": 2,
       "version_minor": 0
      },
      "text/plain": [
       "HBox(children=(HTML(value='Validating'), FloatProgress(value=1.0, bar_style='info', layout=Layout(flex='2'), m…"
      ]
     },
     "metadata": {},
     "output_type": "display_data"
    },
    {
     "data": {
      "application/vnd.jupyter.widget-view+json": {
       "model_id": "",
       "version_major": 2,
       "version_minor": 0
      },
      "text/plain": [
       "HBox(children=(HTML(value='Validating'), FloatProgress(value=1.0, bar_style='info', layout=Layout(flex='2'), m…"
      ]
     },
     "metadata": {},
     "output_type": "display_data"
    },
    {
     "name": "stdout",
     "output_type": "stream",
     "text": [
      "\n"
     ]
    }
   ],
   "source": [
    "trainer.fit(model, train_loader, test_loader)"
   ]
  },
  {
   "cell_type": "code",
   "execution_count": 16,
   "id": "9c662c80",
   "metadata": {
    "ExecuteTime": {
     "end_time": "2022-05-14T10:20:40.085091Z",
     "start_time": "2022-05-14T10:20:09.418393Z"
    }
   },
   "outputs": [
    {
     "name": "stdout",
     "output_type": "stream",
     "text": [
      "[[   0  200   66    8]\n",
      " [   0  490  140   40]\n",
      " [   0   45 1783   80]\n",
      " [   0    8  166  325]]\n",
      "Task 1:\n",
      " Prcesion 0.00, Recall 0.00, F1 0.00\n",
      "Task 2:\n",
      " Prcesion 0.66, Recall 0.73, F1 0.69\n",
      "Task 3:\n",
      " Prcesion 0.83, Recall 0.93, F1 0.88\n",
      "Task 4:\n",
      " Prcesion 0.72, Recall 0.65, F1 0.68\n"
     ]
    },
    {
     "data": {
      "text/plain": [
       "0.42108132951054617"
      ]
     },
     "execution_count": 16,
     "metadata": {},
     "output_type": "execute_result"
    }
   ],
   "source": [
    "model.eval()\n",
    "true_labels = []\n",
    "pred_labels = []\n",
    "for dat in test_loader:\n",
    "    out = model(dat)\n",
    "    pred_label = np.argmax(out.detach().numpy(),1)\n",
    "    pred_labels.append(pred_label)\n",
    "    true_labels.append(dat.label.detach().numpy())\n",
    "\n",
    "true_vector = np.concatenate(true_labels)\n",
    "pred_vector = np.concatenate(pred_labels)\n",
    "\n",
    "cm = metrics.confusion_matrix(true_vector, pred_vector)\n",
    "print(cm)\n",
    "macro_f1(true_vector,pred_vector)"
   ]
  },
  {
   "cell_type": "code",
   "execution_count": null,
   "id": "a1576674",
   "metadata": {},
   "outputs": [],
   "source": []
  },
  {
   "cell_type": "code",
   "execution_count": null,
   "id": "e001f30e",
   "metadata": {},
   "outputs": [],
   "source": []
  }
 ],
 "metadata": {
  "kernelspec": {
   "display_name": "ares_new",
   "language": "python",
   "name": "ares_new"
  },
  "language_info": {
   "codemirror_mode": {
    "name": "ipython",
    "version": 3
   },
   "file_extension": ".py",
   "mimetype": "text/x-python",
   "name": "python",
   "nbconvert_exporter": "python",
   "pygments_lexer": "ipython3",
   "version": "3.8.12"
  },
  "latex_envs": {
   "LaTeX_envs_menu_present": true,
   "autoclose": false,
   "autocomplete": true,
   "bibliofile": "biblio.bib",
   "cite_by": "apalike",
   "current_citInitial": 1,
   "eqLabelWithNumbers": true,
   "eqNumInitial": 1,
   "hotkeys": {
    "equation": "Ctrl-E",
    "itemize": "Ctrl-I"
   },
   "labels_anchors": false,
   "latex_user_defs": false,
   "report_style_numbering": false,
   "user_envs_cfg": false
  },
  "toc": {
   "base_numbering": 1,
   "nav_menu": {},
   "number_sections": true,
   "sideBar": true,
   "skip_h1_title": false,
   "title_cell": "Table of Contents",
   "title_sidebar": "Contents",
   "toc_cell": false,
   "toc_position": {},
   "toc_section_display": true,
   "toc_window_display": false
  }
 },
 "nbformat": 4,
 "nbformat_minor": 5
}
